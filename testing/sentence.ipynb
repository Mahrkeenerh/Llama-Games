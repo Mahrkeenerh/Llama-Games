{
 "cells": [
  {
   "cell_type": "code",
   "execution_count": 1,
   "metadata": {},
   "outputs": [
    {
     "name": "stderr",
     "output_type": "stream",
     "text": [
      "/home/xbuban1/llama_games_venv/lib/python3.11/site-packages/sentence_transformers/cross_encoder/CrossEncoder.py:11: TqdmWarning: IProgress not found. Please update jupyter and ipywidgets. See https://ipywidgets.readthedocs.io/en/stable/user_install.html\n",
      "  from tqdm.autonotebook import tqdm, trange\n"
     ]
    }
   ],
   "source": [
    "import json\n",
    "import os\n",
    "import sys\n",
    "\n",
    "from sentence_transformers import SentenceTransformer\n",
    "import torch\n",
    "import torchvision.datasets as dset\n",
    "\n",
    "module_path = os.path.abspath(os.path.join('..'))\n",
    "if module_path not in sys.path:\n",
    "    sys.path.append(module_path)\n",
    "\n",
    "from testing import *"
   ]
  },
  {
   "cell_type": "code",
   "execution_count": 2,
   "metadata": {},
   "outputs": [
    {
     "name": "stdout",
     "output_type": "stream",
     "text": [
      "loading annotations into memory...\n",
      "Done (t=0.03s)\n",
      "creating index...\n",
      "index created!\n"
     ]
    }
   ],
   "source": [
    "available_models = [\n",
    "    \"all-mpnet-base-v2\",\n",
    "    \"multi-qa-mpnet-base-dot-v1\",\n",
    "    \"all-distilroberta-v1\",\n",
    "    \"all-MiniLM-L12-v2\",\n",
    "    \"multi-qa-distilbert-cos-v1\",\n",
    "    \"all-MiniLM-L6-v2\",\n",
    "    \"multi-qa-MiniLM-L6-cos-v1\",\n",
    "    \"paraphrase-multilingual-mpnet-base-v2\",\n",
    "    \"paraphrase-albert-small-v2\",\n",
    "    \"paraphrase-multilingual-MiniLM-L12-v2\",\n",
    "    \"paraphrase-MiniLM-L3-v2\",\n",
    "    \"distiluse-base-multilingual-cased-v1\",\n",
    "    \"distiluse-base-multilingual-cased-v2\"\n",
    "]\n",
    "\n",
    "scores = {model: {\"similarity_score\": 0, \"dissimilarity_score\": 0} for model in available_models}\n",
    "\n",
    "device = torch.device(\"cuda:3\")\n",
    "\n",
    "ds = dset.CocoCaptions(\n",
    "    root = '/home/xbuban1/coco/images/val2017',\n",
    "    annFile = '/home/xbuban1/coco/annotations/captions_val2017.json'\n",
    ")"
   ]
  },
  {
   "cell_type": "code",
   "execution_count": 3,
   "metadata": {},
   "outputs": [
    {
     "name": "stdout",
     "output_type": "stream",
     "text": [
      "Processing model all-mpnet-base-v2 (1/13)\n"
     ]
    },
    {
     "name": "stderr",
     "output_type": "stream",
     "text": [
      "/home/xbuban1/llama_games_venv/lib/python3.11/site-packages/transformers/tokenization_utils_base.py:1601: FutureWarning: `clean_up_tokenization_spaces` was not set. It will be set to `True` by default. This behavior will be depracted in transformers v4.45, and will be then set to `False` by default. For more details check this issue: https://github.com/huggingface/transformers/issues/31884\n",
      "  warnings.warn(\n",
      "Calculating intra-similarities: 100%|██████████| 5000/5000 [01:20<00:00, 62.14it/s]\n",
      "Calculating intra-dissimilarities: 100%|██████████| 5000/5000 [02:10<00:00, 38.40it/s]\n"
     ]
    },
    {
     "name": "stdout",
     "output_type": "stream",
     "text": [
      "\n",
      "Processing model multi-qa-mpnet-base-dot-v1 (2/13)\n"
     ]
    },
    {
     "name": "stderr",
     "output_type": "stream",
     "text": [
      "Calculating intra-similarities: 100%|██████████| 5000/5000 [01:08<00:00, 73.52it/s]\n",
      "Calculating intra-dissimilarities: 100%|██████████| 5000/5000 [02:07<00:00, 39.11it/s]\n"
     ]
    },
    {
     "name": "stdout",
     "output_type": "stream",
     "text": [
      "\n",
      "Processing model all-distilroberta-v1 (3/13)\n"
     ]
    },
    {
     "name": "stderr",
     "output_type": "stream",
     "text": [
      "Calculating intra-similarities: 100%|██████████| 5000/5000 [00:49<00:00, 100.92it/s]\n",
      "Calculating intra-dissimilarities: 100%|██████████| 5000/5000 [01:32<00:00, 54.11it/s]\n"
     ]
    },
    {
     "name": "stdout",
     "output_type": "stream",
     "text": [
      "\n",
      "Processing model all-MiniLM-L12-v2 (4/13)\n"
     ]
    },
    {
     "name": "stderr",
     "output_type": "stream",
     "text": [
      "Calculating intra-similarities: 100%|██████████| 5000/5000 [01:03<00:00, 79.04it/s]\n",
      "Calculating intra-dissimilarities: 100%|██████████| 5000/5000 [01:58<00:00, 42.37it/s]\n"
     ]
    },
    {
     "name": "stdout",
     "output_type": "stream",
     "text": [
      "\n",
      "Processing model multi-qa-distilbert-cos-v1 (5/13)\n"
     ]
    },
    {
     "name": "stderr",
     "output_type": "stream",
     "text": [
      "Calculating intra-similarities: 100%|██████████| 5000/5000 [00:48<00:00, 103.73it/s]\n",
      "Calculating intra-dissimilarities: 100%|██████████| 5000/5000 [01:30<00:00, 55.10it/s]\n"
     ]
    },
    {
     "name": "stdout",
     "output_type": "stream",
     "text": [
      "\n",
      "Processing model all-MiniLM-L6-v2 (6/13)\n"
     ]
    },
    {
     "name": "stderr",
     "output_type": "stream",
     "text": [
      "Calculating intra-similarities: 100%|██████████| 5000/5000 [00:45<00:00, 111.01it/s]\n",
      "Calculating intra-dissimilarities: 100%|██████████| 5000/5000 [01:24<00:00, 58.88it/s]\n"
     ]
    },
    {
     "name": "stdout",
     "output_type": "stream",
     "text": [
      "\n",
      "Processing model multi-qa-MiniLM-L6-cos-v1 (7/13)\n"
     ]
    },
    {
     "name": "stderr",
     "output_type": "stream",
     "text": [
      "Calculating intra-similarities: 100%|██████████| 5000/5000 [00:48<00:00, 103.19it/s]\n",
      "Calculating intra-dissimilarities: 100%|██████████| 5000/5000 [01:24<00:00, 59.05it/s]\n"
     ]
    },
    {
     "name": "stdout",
     "output_type": "stream",
     "text": [
      "\n",
      "Processing model paraphrase-multilingual-mpnet-base-v2 (8/13)\n"
     ]
    },
    {
     "name": "stderr",
     "output_type": "stream",
     "text": [
      "Calculating intra-similarities: 100%|██████████| 5000/5000 [01:11<00:00, 70.26it/s]\n",
      "Calculating intra-dissimilarities: 100%|██████████| 5000/5000 [02:10<00:00, 38.31it/s]\n"
     ]
    },
    {
     "name": "stdout",
     "output_type": "stream",
     "text": [
      "\n",
      "Processing model paraphrase-albert-small-v2 (9/13)\n"
     ]
    },
    {
     "name": "stderr",
     "output_type": "stream",
     "text": [
      "Calculating intra-similarities: 100%|██████████| 5000/5000 [00:49<00:00, 101.92it/s]\n",
      "Calculating intra-dissimilarities: 100%|██████████| 5000/5000 [01:27<00:00, 56.95it/s]\n"
     ]
    },
    {
     "name": "stdout",
     "output_type": "stream",
     "text": [
      "\n",
      "Processing model paraphrase-multilingual-MiniLM-L12-v2 (10/13)\n"
     ]
    },
    {
     "name": "stderr",
     "output_type": "stream",
     "text": [
      "Calculating intra-similarities: 100%|██████████| 5000/5000 [01:03<00:00, 78.57it/s]\n",
      "Calculating intra-dissimilarities: 100%|██████████| 5000/5000 [01:56<00:00, 42.99it/s]\n"
     ]
    },
    {
     "name": "stdout",
     "output_type": "stream",
     "text": [
      "\n",
      "Processing model paraphrase-MiniLM-L3-v2 (11/13)\n"
     ]
    },
    {
     "name": "stderr",
     "output_type": "stream",
     "text": [
      "Calculating intra-similarities: 100%|██████████| 5000/5000 [00:36<00:00, 138.24it/s]\n",
      "Calculating intra-dissimilarities: 100%|██████████| 5000/5000 [01:05<00:00, 76.61it/s]\n"
     ]
    },
    {
     "name": "stdout",
     "output_type": "stream",
     "text": [
      "\n",
      "Processing model distiluse-base-multilingual-cased-v1 (12/13)\n"
     ]
    },
    {
     "name": "stderr",
     "output_type": "stream",
     "text": [
      "Calculating intra-similarities: 100%|██████████| 5000/5000 [00:47<00:00, 104.41it/s]\n",
      "Calculating intra-dissimilarities: 100%|██████████| 5000/5000 [01:29<00:00, 56.09it/s]\n"
     ]
    },
    {
     "name": "stdout",
     "output_type": "stream",
     "text": [
      "\n",
      "Processing model distiluse-base-multilingual-cased-v2 (13/13)\n"
     ]
    },
    {
     "name": "stderr",
     "output_type": "stream",
     "text": [
      "Calculating intra-similarities: 100%|██████████| 5000/5000 [00:47<00:00, 104.62it/s]\n",
      "Calculating intra-dissimilarities: 100%|██████████| 5000/5000 [01:28<00:00, 56.67it/s]"
     ]
    },
    {
     "name": "stdout",
     "output_type": "stream",
     "text": [
      "\n"
     ]
    },
    {
     "name": "stderr",
     "output_type": "stream",
     "text": [
      "\n"
     ]
    }
   ],
   "source": [
    "for i, model_name in enumerate(available_models):\n",
    "    print(f\"Processing model {model_name} ({i+1}/{len(available_models)})\")\n",
    "    model = SentenceTransformer(model_name, device=device)\n",
    "\n",
    "    ds_s = get_intra_similarities_avg(model, ds)\n",
    "    ds_d = get_intra_dissimilarities_avg(model, ds)\n",
    "\n",
    "    scores[model_name][\"similarity_score\"] = ds_s\n",
    "    scores[model_name][\"dissimilarity_score\"] = ds_d\n",
    "\n",
    "    print()"
   ]
  },
  {
   "cell_type": "code",
   "execution_count": 4,
   "metadata": {},
   "outputs": [
    {
     "name": "stdout",
     "output_type": "stream",
     "text": [
      "multi-qa-mpnet-base-dot-v1               26.9233\n",
      "paraphrase-multilingual-mpnet-base-v2    0.7506\n",
      "paraphrase-multilingual-MiniLM-L12-v2    0.7222\n",
      "paraphrase-MiniLM-L3-v2                  0.6598\n",
      "paraphrase-albert-small-v2               0.6551\n",
      "multi-qa-distilbert-cos-v1               0.6506\n",
      "multi-qa-MiniLM-L6-cos-v1                0.6389\n",
      "all-mpnet-base-v2                        0.6278\n",
      "all-distilroberta-v1                     0.6149\n",
      "all-MiniLM-L6-v2                         0.6144\n",
      "all-MiniLM-L12-v2                        0.6133\n",
      "distiluse-base-multilingual-cased-v2     0.5720\n",
      "distiluse-base-multilingual-cased-v1     0.5639\n"
     ]
    }
   ],
   "source": [
    "# Order print by similarity score\n",
    "for model_name in sorted(scores, key=lambda x: scores[x][\"similarity_score\"], reverse=True):\n",
    "    print(f\"{model_name.ljust(40)} {scores[model_name]['similarity_score']:0.4f}\")"
   ]
  },
  {
   "cell_type": "code",
   "execution_count": 5,
   "metadata": {},
   "outputs": [
    {
     "name": "stdout",
     "output_type": "stream",
     "text": [
      "paraphrase-MiniLM-L3-v2                  0.0347\n",
      "paraphrase-albert-small-v2               0.0396\n",
      "all-distilroberta-v1                     0.0610\n",
      "paraphrase-multilingual-MiniLM-L12-v2    0.0635\n",
      "all-MiniLM-L12-v2                        0.0777\n",
      "all-MiniLM-L6-v2                         0.0899\n",
      "all-mpnet-base-v2                        0.0967\n",
      "paraphrase-multilingual-mpnet-base-v2    0.1082\n",
      "distiluse-base-multilingual-cased-v1     0.1105\n",
      "distiluse-base-multilingual-cased-v2     0.1151\n",
      "multi-qa-MiniLM-L6-cos-v1                0.2401\n",
      "multi-qa-distilbert-cos-v1               0.2609\n",
      "multi-qa-mpnet-base-dot-v1               17.1176\n"
     ]
    }
   ],
   "source": [
    "# Order print by dissimilarity score\n",
    "for model_name in sorted(scores, key=lambda x: scores[x][\"dissimilarity_score\"], reverse=False):\n",
    "    print(f\"{model_name.ljust(40)} {scores[model_name]['dissimilarity_score']:0.4f}\")"
   ]
  },
  {
   "cell_type": "code",
   "execution_count": 6,
   "metadata": {},
   "outputs": [
    {
     "name": "stdout",
     "output_type": "stream",
     "text": [
      "multi-qa-mpnet-base-dot-v1               26.9233 | 17.1176\n",
      "paraphrase-multilingual-MiniLM-L12-v2    0.7222 | 0.0635\n",
      "paraphrase-multilingual-mpnet-base-v2    0.7506 | 0.1082\n",
      "paraphrase-MiniLM-L3-v2                  0.6598 | 0.0347\n",
      "paraphrase-albert-small-v2               0.6551 | 0.0396\n",
      "all-distilroberta-v1                     0.6149 | 0.0610\n",
      "all-MiniLM-L12-v2                        0.6133 | 0.0777\n",
      "all-mpnet-base-v2                        0.6278 | 0.0967\n",
      "all-MiniLM-L6-v2                         0.6144 | 0.0899\n",
      "distiluse-base-multilingual-cased-v2     0.5720 | 0.1151\n",
      "distiluse-base-multilingual-cased-v1     0.5639 | 0.1105\n",
      "multi-qa-MiniLM-L6-cos-v1                0.6389 | 0.2401\n",
      "multi-qa-distilbert-cos-v1               0.6506 | 0.2609\n"
     ]
    }
   ],
   "source": [
    "# Order print by combined score\n",
    "for model_name in sorted(scores, key=lambda x: scores[x][\"similarity_score\"] - scores[x][\"dissimilarity_score\"], reverse=True):\n",
    "    print(f\"{model_name.ljust(40)} {scores[model_name]['similarity_score']:0.4f} | {scores[model_name]['dissimilarity_score']:0.4f}\")"
   ]
  },
  {
   "cell_type": "code",
   "execution_count": 7,
   "metadata": {},
   "outputs": [
    {
     "name": "stderr",
     "output_type": "stream",
     "text": [
      "Calculating intra-similarities: 100%|██████████| 5000/5000 [01:03<00:00, 78.76it/s]\n",
      "Calculating similarities: 100%|██████████| 5000/5000 [01:33<00:00, 53.56it/s]\n",
      "Calculating similarities: 100%|██████████| 5000/5000 [01:34<00:00, 52.74it/s]\n",
      "Calculating similarities: 100%|██████████| 5000/5000 [01:35<00:00, 52.28it/s]\n",
      "Calculating similarities: 100%|██████████| 5000/5000 [01:35<00:00, 52.31it/s]\n",
      "Calculating similarities: 100%|██████████| 5000/5000 [01:35<00:00, 52.37it/s]\n",
      "Calculating similarities: 100%|██████████| 5000/5000 [01:34<00:00, 52.81it/s]"
     ]
    },
    {
     "name": "stdout",
     "output_type": "stream",
     "text": [
      "\n",
      "Intra Captions similarity score: 0.7222\n",
      "VED Captions similarity score: 0.6799\n",
      "Val 224 No Merge Captions similarity score: 0.6532\n",
      "Val 224 Merge Captions similarity score: 0.6761\n",
      "Val 448 No Merge Captions similarity score: 0.1988\n",
      "Val 448 Merge Captions similarity score: 0.6464\n",
      "Finetuned Captions similarity score: 0.6882\n"
     ]
    },
    {
     "name": "stderr",
     "output_type": "stream",
     "text": [
      "\n"
     ]
    }
   ],
   "source": [
    "model_name = \"paraphrase-multilingual-MiniLM-L12-v2\"\n",
    "\n",
    "with open('captions/coco/3.1_val_224_no_merge.json') as f:\n",
    "    val_224_no_merge_captions = json.load(f)\n",
    "\n",
    "with open('captions/coco/3.1_val_224_merge.json') as f:\n",
    "    val_224_merge_captions = json.load(f)\n",
    "\n",
    "with open('captions/coco/3.1_val_448_no_merge.json') as f:\n",
    "    val_448_no_merge_captions = json.load(f)\n",
    "\n",
    "with open('captions/coco/3.1_val_448_merge.json') as f:\n",
    "    val_448_merge_captions = json.load(f)\n",
    "\n",
    "with open('captions/coco/finetune.json') as f:\n",
    "    finetune_captions = json.load(f)\n",
    "\n",
    "with open('captions/coco/ved.json') as f:\n",
    "    ved_captions = json.load(f)\n",
    "\n",
    "model = SentenceTransformer(model_name, device=device)\n",
    "\n",
    "ds_similarities = get_intra_similarities(model, ds)\n",
    "ds_avg_sim = torch.cat(ds_similarities).mean(dim=0)\n",
    "ds_similarities = [sim.mean() for sim in ds_similarities]\n",
    "\n",
    "ved_similarities = get_similarities(model, ds, ved_captions)\n",
    "ved_avg_sim = torch.cat(ved_similarities).mean(dim=0)\n",
    "ved_similarities = [sim.mean() for sim in ved_similarities]\n",
    "\n",
    "val_224_no_merge_similarities = get_similarities(model, ds, val_224_no_merge_captions)\n",
    "val_224_no_merge_avg_sim = torch.cat(val_224_no_merge_similarities).mean(dim=0)\n",
    "val_224_no_merge_similarities = [sim.mean() for sim in val_224_no_merge_similarities]\n",
    "\n",
    "val_224_merge_similarities = get_similarities(model, ds, val_224_merge_captions)\n",
    "val_224_merge_avg_sim = torch.cat(val_224_merge_similarities).mean(dim=0)\n",
    "val_224_merge_similarities = [sim.mean() for sim in val_224_merge_similarities]\n",
    "\n",
    "val_448_merge_similarities = get_similarities(model, ds, val_448_merge_captions)\n",
    "val_448_merge_avg_sim = torch.cat(val_448_merge_similarities).mean(dim=0)\n",
    "val_448_merge_similarities = [sim.mean() for sim in val_448_merge_similarities]\n",
    "\n",
    "val_448_no_merge_similarities = get_similarities(model, ds, val_448_no_merge_captions)\n",
    "val_448_no_merge_avg_sim = torch.cat(val_448_no_merge_similarities).mean(dim=0)\n",
    "val_448_no_merge_similarities = [sim.mean() for sim in val_448_no_merge_similarities]\n",
    "\n",
    "finetune_similarities = get_similarities(model, ds, finetune_captions)\n",
    "finetune_avg_sim = torch.cat(finetune_similarities).mean(dim=0)\n",
    "finetune_similarities = [sim.mean() for sim in finetune_similarities]\n",
    "\n",
    "print(f\"\\nIntra Captions similarity score: {ds_avg_sim:0.4f}\")\n",
    "print(f\"VED Captions similarity score: {ved_avg_sim:0.4f}\")\n",
    "print(f\"Val 224 No Merge Captions similarity score: {val_224_no_merge_avg_sim:0.4f}\")\n",
    "print(f\"Val 224 Merge Captions similarity score: {val_224_merge_avg_sim:0.4f}\")\n",
    "print(f\"Val 448 No Merge Captions similarity score: {val_448_no_merge_avg_sim:0.4f}\")\n",
    "print(f\"Val 448 Merge Captions similarity score: {val_448_merge_avg_sim:0.4f}\")\n",
    "print(f\"Finetuned Captions similarity score: {finetune_avg_sim:0.4f}\")"
   ]
  },
  {
   "cell_type": "code",
   "execution_count": 8,
   "metadata": {},
   "outputs": [
    {
     "data": {
      "image/png": "[encoded data removed]",
      "text/plain": [
       "<Figure size 640x480 with 1 Axes>"
      ]
     },
     "metadata": {},
     "output_type": "display_data"
    }
   ],
   "source": [
    "boxplot_similarities(\n",
    "    [ds_similarities, ved_similarities, val_224_no_merge_similarities, val_224_merge_similarities, val_448_no_merge_similarities, val_448_merge_similarities, finetune_similarities],\n",
    "    [ds_avg_sim, ved_avg_sim, val_224_no_merge_avg_sim, val_224_merge_avg_sim, val_448_no_merge_avg_sim, val_448_merge_avg_sim, finetune_avg_sim],\n",
    "    [\"Intra Captions\", \"VED Captions\", \"Val 224 No Merge Captions\", \"Val 224 Merge Captions\", \"Val 448 No Merge Captions\", \"Val 448 Merge Captions\", \"Finetuned Captions\"],\n",
    ")"
   ]
  }
 ],
 "metadata": {
  "kernelspec": {
   "display_name": "llama_games_venv",
   "language": "python",
   "name": "python3"
  },
  "language_info": {
   "codemirror_mode": {
    "name": "ipython",
    "version": 3
   },
   "file_extension": ".py",
   "mimetype": "text/x-python",
   "name": "python",
   "nbconvert_exporter": "python",
   "pygments_lexer": "ipython3",
   "version": "3.11.2"
  }
 },
 "nbformat": 4,
 "nbformat_minor": 2
}
