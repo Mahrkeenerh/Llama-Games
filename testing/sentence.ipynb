{
 "cells": [
  {
   "cell_type": "code",
   "execution_count": null,
   "metadata": {},
   "outputs": [],
   "source": [
    "import json\n",
    "import os\n",
    "import sys\n",
    "\n",
    "from sentence_transformers import SentenceTransformer\n",
    "import torch\n",
    "import torchvision.datasets as dset\n",
    "\n",
    "module_path = os.path.abspath(os.path.join('..'))\n",
    "if module_path not in sys.path:\n",
    "    sys.path.append(module_path)\n",
    "\n",
    "from testing import *"
   ]
  },
  {
   "cell_type": "code",
   "execution_count": null,
   "metadata": {},
   "outputs": [],
   "source": [
    "available_models = [\n",
    "    \"all-mpnet-base-v2\",\n",
    "    \"multi-qa-mpnet-base-dot-v1\",\n",
    "    \"all-distilroberta-v1\",\n",
    "    \"all-MiniLM-L12-v2\",\n",
    "    \"multi-qa-distilbert-cos-v1\",\n",
    "    \"all-MiniLM-L6-v2\",\n",
    "    \"multi-qa-MiniLM-L6-cos-v1\",\n",
    "    \"paraphrase-multilingual-mpnet-base-v2\",\n",
    "    \"paraphrase-albert-small-v2\",\n",
    "    \"paraphrase-multilingual-MiniLM-L12-v2\",\n",
    "    \"paraphrase-MiniLM-L3-v2\",\n",
    "    \"distiluse-base-multilingual-cased-v1\",\n",
    "    \"distiluse-base-multilingual-cased-v2\"\n",
    "]\n",
    "\n",
    "scores = {model: {\"similarity_score\": 0, \"dissimilarity_score\": 0} for model in available_models}"
   ]
  },
  {
   "cell_type": "code",
   "execution_count": null,
   "metadata": {},
   "outputs": [],
   "source": [
    "device = torch.device(\"cuda:3\")\n",
    "\n",
    "ds = dset.CocoCaptions(\n",
    "    root = '/home/xbuban1/coco/images/val2017',\n",
    "    annFile = '/home/xbuban1/coco/annotations/captions_val2017.json'\n",
    ")\n",
    "\n",
    "for i, model_name in enumerate(available_models):\n",
    "    print(f\"Processing model {model_name} ({i+1}/{len(available_models)})\")\n",
    "    model = SentenceTransformer(model_name, device=device)\n",
    "\n",
    "    ds_s = get_intra_similarities_avg(model, ds)\n",
    "    ds_d = get_intra_dissimilarities_avg(model, ds)\n",
    "\n",
    "    scores[model_name][\"similarity_score\"] = ds_s\n",
    "    scores[model_name][\"dissimilarity_score\"] = ds_d\n",
    "\n",
    "    print()"
   ]
  },
  {
   "cell_type": "code",
   "execution_count": null,
   "metadata": {},
   "outputs": [],
   "source": [
    "# Order print by similarity score\n",
    "for model_name in sorted(scores, key=lambda x: scores[x][\"similarity_score\"], reverse=True):\n",
    "    print(f\"{model_name.ljust(40)} {scores[model_name]['similarity_score']:0.4f}\")"
   ]
  },
  {
   "cell_type": "code",
   "execution_count": null,
   "metadata": {},
   "outputs": [],
   "source": [
    "# Order print by dissimilarity score\n",
    "for model_name in sorted(scores, key=lambda x: scores[x][\"dissimilarity_score\"], reverse=False):\n",
    "    print(f\"{model_name.ljust(40)} {scores[model_name]['dissimilarity_score']:0.4f}\")"
   ]
  },
  {
   "cell_type": "code",
   "execution_count": null,
   "metadata": {},
   "outputs": [],
   "source": [
    "# Order print by combined score\n",
    "for model_name in sorted(scores, key=lambda x: scores[x][\"similarity_score\"] - scores[x][\"dissimilarity_score\"], reverse=True):\n",
    "    print(f\"{model_name.ljust(40)} {scores[model_name]['similarity_score']:0.4f} | {scores[model_name]['dissimilarity_score']:0.4f}\")"
   ]
  },
  {
   "cell_type": "code",
   "execution_count": null,
   "metadata": {},
   "outputs": [],
   "source": [
    "model_name = \"paraphrase-multilingual-MiniLM-L12-v2\"\n",
    "\n",
    "with open('captions/val_224_no_merge.json') as f:\n",
    "    captions = json.load(f)\n",
    "\n",
    "with open('captions/ved.json') as f:\n",
    "    ved_captions = json.load(f)\n",
    "\n",
    "model = SentenceTransformer(model_name, device=device)\n",
    "\n",
    "ds_similarities = get_intra_similarities(model, ds)\n",
    "ds_avg_sim = torch.cat(ds_similarities).mean(dim=0)\n",
    "ds_similarities = [sim.mean() for sim in ds_similarities]\n",
    "\n",
    "ved_similarities = get_similarities(model, ds, ved_captions)\n",
    "ved_avg_sim = torch.cat(ved_similarities).mean(dim=0)\n",
    "ved_similarities = [sim.mean() for sim in ved_similarities]\n",
    "\n",
    "similarities = get_similarities(model, ds, captions)\n",
    "avg_sim = torch.cat(similarities).mean(dim=0)\n",
    "similarities = [sim.mean() for sim in similarities]\n",
    "\n",
    "print(f\"Intra Captions similarity score: {ds_avg_sim:0.4f}\")\n",
    "print(f\"VED Captions similarity score: {ved_avg_sim:0.4f}\")\n",
    "print(f\"Captions similarity score: {avg_sim:0.4f}\")"
   ]
  },
  {
   "cell_type": "code",
   "execution_count": null,
   "metadata": {},
   "outputs": [],
   "source": [
    "boxplot_similarities(ds_similarities, ved_similarities, similarities, ds_avg_sim, ved_avg_sim, avg_sim)"
   ]
  }
 ],
 "metadata": {
  "kernelspec": {
   "display_name": "llama_games_venv",
   "language": "python",
   "name": "python3"
  },
  "language_info": {
   "codemirror_mode": {
    "name": "ipython",
    "version": 3
   },
   "file_extension": ".py",
   "mimetype": "text/x-python",
   "name": "python",
   "nbconvert_exporter": "python",
   "pygments_lexer": "ipython3",
   "version": "3.11.2"
  }
 },
 "nbformat": 4,
 "nbformat_minor": 2
}
