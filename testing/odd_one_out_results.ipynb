{
 "cells": [
  {
   "cell_type": "code",
   "execution_count": 1,
   "metadata": {},
   "outputs": [],
   "source": [
    "import json"
   ]
  },
  {
   "cell_type": "code",
   "execution_count": 2,
   "metadata": {},
   "outputs": [],
   "source": [
    "with open(\"captions/odd_one_out/3.1_val_224_merge_odd_one_out.json\") as f:\n",
    "    llama_224_merge = json.load(f)\n",
    "\n",
    "with open(\"captions/odd_one_out/3.1_val_224_no_merge_odd_one_out.json\") as f:\n",
    "    llama_224_no_merge = json.load(f)\n",
    "\n",
    "with open(\"captions/odd_one_out/3.1_val_448_merge_odd_one_out.json\") as f:\n",
    "    llama_448_merge = json.load(f)\n",
    "\n",
    "with open(\"captions/odd_one_out/finetune_odd_one_out.json\") as f:\n",
    "    finetune = json.load(f)\n",
    "\n",
    "with open(\"captions/odd_one_out/ved_odd_one_out.json\") as f:\n",
    "    ved = json.load(f)"
   ]
  },
  {
   "cell_type": "code",
   "execution_count": 3,
   "metadata": {},
   "outputs": [
    {
     "name": "stdout",
     "output_type": "stream",
     "text": [
      "3.1_val_224_merge: 0.4046\n",
      "3.1_val_224_no_merge: 0.4772\n",
      "3.1_val_448_merge: 0.473\n",
      "finetune: 0.3578\n",
      "ved: 0.3846\n"
     ]
    }
   ],
   "source": [
    "llama_224_merge_correct = sum(x[\"correct\"] for x in llama_224_merge)\n",
    "llama_224_no_merge_correct = sum(x[\"correct\"] for x in llama_224_no_merge)\n",
    "llama_448_merge_correct = sum(x[\"correct\"] for x in llama_448_merge)\n",
    "finetune_correct = sum(x[\"correct\"] for x in finetune)\n",
    "ved_correct = sum(x[\"correct\"] for x in ved)\n",
    "\n",
    "print(f\"3.1_val_224_merge: {llama_224_merge_correct / len(llama_224_merge)}\")\n",
    "print(f\"3.1_val_224_no_merge: {llama_224_no_merge_correct / len(llama_224_no_merge)}\")\n",
    "print(f\"3.1_val_448_merge: {llama_448_merge_correct / len(llama_448_merge)}\")\n",
    "print(f\"finetune: {finetune_correct / len(finetune)}\")\n",
    "print(f\"ved: {ved_correct / len(ved)}\")"
   ]
  }
 ],
 "metadata": {
  "kernelspec": {
   "display_name": "llama_games_venv",
   "language": "python",
   "name": "python3"
  },
  "language_info": {
   "codemirror_mode": {
    "name": "ipython",
    "version": 3
   },
   "file_extension": ".py",
   "mimetype": "text/x-python",
   "name": "python",
   "nbconvert_exporter": "python",
   "pygments_lexer": "ipython3",
   "version": "3.11.2"
  }
 },
 "nbformat": 4,
 "nbformat_minor": 2
}
