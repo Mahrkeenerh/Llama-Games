{
 "cells": [
  {
   "cell_type": "code",
   "execution_count": null,
   "metadata": {},
   "outputs": [],
   "source": [
    "import json\n",
    "import os\n",
    "import sys\n",
    "\n",
    "import torchvision.datasets as dset\n",
    "\n",
    "module_path = os.path.abspath(os.path.join('..'))\n",
    "if module_path not in sys.path:\n",
    "    sys.path.append(module_path)\n",
    "\n",
    "from testing import *"
   ]
  },
  {
   "cell_type": "code",
   "execution_count": null,
   "metadata": {},
   "outputs": [],
   "source": [
    "ds = dset.CocoCaptions(\n",
    "    root = '/home/xbuban1/coco/images/val2017',\n",
    "    annFile = '/home/xbuban1/coco/annotations/captions_val2017.json'\n",
    ")\n",
    "\n",
    "ved_scores = coco_eval_avg(ds, \"captions/ved.json\")\n",
    "val_224_no_merge_scores = coco_eval_avg(ds, \"captions/val_224_no_merge.json\")\n",
    "val_448_no_merge_scores = coco_eval_avg(ds, \"captions/val_448_no_merge.json\")\n",
    "val_448_merge_scores = coco_eval_avg(ds, \"captions/val_448_merge.json\")\n",
    "\n",
    "score_dict = {\n",
    "    'ved': ved_scores,\n",
    "    'val_224_no_merge': val_224_no_merge_scores,\n",
    "    'val_448_no_merge': val_448_no_merge_scores,\n",
    "    'val_448_merge': val_448_merge_scores\n",
    "}\n",
    "\n",
    "with open(\"captions/eval_scores.json\", \"w\") as f:\n",
    "    json.dump(score_dict, f)"
   ]
  },
  {
   "cell_type": "code",
   "execution_count": null,
   "metadata": {},
   "outputs": [],
   "source": [
    "lineplot_scores(score_dict, \"Eval Scores\")\n",
    "lineplot_scores(normalize_scores(score_dict), \"Normalized Eval Scores\")"
   ]
  }
 ],
 "metadata": {
  "kernelspec": {
   "display_name": "llama_games_venv",
   "language": "python",
   "name": "python3"
  },
  "language_info": {
   "codemirror_mode": {
    "name": "ipython",
    "version": 3
   },
   "file_extension": ".py",
   "mimetype": "text/x-python",
   "name": "python",
   "nbconvert_exporter": "python",
   "pygments_lexer": "ipython3",
   "version": "3.11.2"
  }
 },
 "nbformat": 4,
 "nbformat_minor": 2
}
