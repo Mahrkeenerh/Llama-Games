{
 "cells": [
  {
   "cell_type": "code",
   "execution_count": null,
   "metadata": {},
   "outputs": [],
   "source": [
    "import os\n",
    "import sys\n",
    "\n",
    "import evaluate\n",
    "import torch\n",
    "import torchvision.datasets as dset\n",
    "import torchvision.transforms as transforms\n",
    "from transformers import VisionEncoderDecoderModel, ViTImageProcessor, GPT2Tokenizer\n",
    "\n",
    "module_path = os.path.abspath(os.path.join('..'))\n",
    "if module_path not in sys.path:\n",
    "    sys.path.append(module_path)\n",
    "\n",
    "from modeling import *"
   ]
  },
  {
   "cell_type": "code",
   "execution_count": null,
   "metadata": {},
   "outputs": [],
   "source": [
    "bleu = evaluate.load(\"bleu\")\n",
    "meteor = evaluate.load('meteor')\n",
    "rouge = evaluate.load('rouge')\n",
    "\n",
    "\n",
    "def score(out, ann):\n",
    "    references = [[x] for x in ann]\n",
    "    predictions = [out]\n",
    "\n",
    "    print(bleu.compute(predictions=predictions, references=[references]))\n",
    "    print(meteor.compute(predictions=predictions, references=[references]))\n",
    "    print(rouge.compute(predictions=predictions, references=[references]))\n",
    "\n",
    "\n",
    "def eval(llama_model, ved_model, ds, index, device):\n",
    "    if index == -1:\n",
    "        index = torch.randint(0, len(ds), (1,)).item()\n",
    "\n",
    "    img, ann = ds[index]\n",
    "\n",
    "    display(img)\n",
    "    print(f'Index: {index}\\n')\n",
    "    print(\"Target annotations:\")\n",
    "    print(\"\\n\".join(ann))\n",
    "    print(\"\\nOutput annotations:\")\n",
    "\n",
    "    img = transforms.PILToTensor()(img).to(device)\n",
    "    img_in = llama_model.vit_processor(img.unsqueeze(0), return_tensors=\"pt\").pixel_values\n",
    "    img_batch = img_in.unsqueeze(0).to(device)\n",
    "    out = llama_model.generate(img_batch, max_new_tokens=64, do_sample=False, top_p=None, temperature=None)\n",
    "\n",
    "    print(\"Llama:\")\n",
    "    print(out)\n",
    "    score(out, ann)\n",
    "\n",
    "    out = ved_model.generate(img, max_new_tokens=64)\n",
    "\n",
    "    print(\"\\nVED:\")\n",
    "    print(out)\n",
    "    score(out, ann)"
   ]
  },
  {
   "cell_type": "code",
   "execution_count": null,
   "metadata": {},
   "outputs": [],
   "source": [
    "device = torch.device(\"cuda:2\")\n",
    "\n",
    "ds = dset.CocoCaptions(\n",
    "    root = '/home/xbuban1/coco/images/val2017',\n",
    "    # root = '/mnt/gryf/home/xbuban1/coco/images/train2017',\n",
    "    annFile = '/home/xbuban1/coco/annotations/captions_val2017.json'\n",
    "    # annFile = '/mnt/gryf/home/xbuban1/coco/annotations/captions_train2017.json'\n",
    ")\n",
    "\n",
    "llama_model = LlamaGameDescription.from_pretrained(\n",
    "    # \"/mnt/gryf/home/xbuban1/runs/0_Llama_Game_Desc/models/model_1\",\n",
    "    \"/home/xbuban1/LlamaGames/runs/2_Llama_Captions_small/models/model_10\",\n",
    "    # \"/home/xbuban1/LlamaGames/runs/3_Llama_Captions_448_full/models/model_10\",\n",
    "    task=\"caption\",\n",
    "    device=device\n",
    ")\n",
    "\n",
    "ved_model = VEDModel(\n",
    "    \"/home/xbuban1/LlamaGames/models/ved_model\",\n",
    "    \"nlpconnect/vit-gpt2-image-captioning\",\n",
    "    device=device\n",
    ")"
   ]
  },
  {
   "cell_type": "code",
   "execution_count": null,
   "metadata": {},
   "outputs": [],
   "source": [
    "# index -1 means random index\n",
    "index = -1\n",
    "\n",
    "eval(llama_model, ved_model, ds, index, device)"
   ]
  }
 ],
 "metadata": {
  "kernelspec": {
   "display_name": ".venv",
   "language": "python",
   "name": "python3"
  },
  "language_info": {
   "codemirror_mode": {
    "name": "ipython",
    "version": 3
   },
   "file_extension": ".py",
   "mimetype": "text/x-python",
   "name": "python",
   "nbconvert_exporter": "python",
   "pygments_lexer": "ipython3",
   "version": "3.11.2"
  }
 },
 "nbformat": 4,
 "nbformat_minor": 2
}
